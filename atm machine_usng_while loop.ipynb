{
 "cells": [
  {
   "cell_type": "code",
   "execution_count": null,
   "id": "81007dba",
   "metadata": {},
   "outputs": [
    {
     "name": "stdout",
     "output_type": "stream",
     "text": [
      "Welcome to BOB Bank !!!\n"
     ]
    }
   ],
   "source": [
    "import time\n",
    "\n",
    "print(\"Welcome to BOB Bank !!!\")\n",
    "pin=2604\n",
    "chances=3\n",
    "balance=50000\n",
    "\n",
    "while chances !=0:\n",
    "    user_pin=int(input(\"Please enter the four digit pin:\"))\n",
    "    time.sleep(10)\n",
    "    if user_pin !=pin:\n",
    "        chances -=1\n",
    "        print(\"Wrong pin number\")\n",
    "        print(f\"You have {chances} chances left\")\n",
    "        \n",
    "    else:\n",
    "        user_choice=input(\"1 : balance, 2 : deposite, 3 : withdraw\")\n",
    "        print(\"*\"*50)\n",
    "        if user_choice==\"1\":\n",
    "            print(f\"Your total balance is Rs.{balance}\")\n",
    "            print(\"*\"*50)\n",
    "            \n",
    "        elif user_choice== \"2\":\n",
    "            deposite_user=int(input(\"Enter the amount that you would like to deposite:\"))\n",
    "            Total_balance=deposite_user + balance\n",
    "            print(f\"You have deposited Rs.{deposite_user}\")\n",
    "            print(\"*\"*50)\n",
    "            print(f\"Your total balance is Rs.{Total_balance}\")\n",
    "            \n",
    "        elif user_choice==\"3\":\n",
    "            withdraw_user=int(input(\"Enter the amount you want to withdraw:\"))\n",
    "            total_withdrawnbalance=Total_balance - withdraw_user\n",
    "            print(f\"You have withdrawn Rs.{withdraw_user}\")\n",
    "            print(\"*\"*50)\n",
    "            print(f\"You have total balance is Rs.{total_withdrawnbalance}\")\n",
    "            \n",
    "    user_exit=input(\"Would you like to exit? Yes/No\")\n",
    "    if user_exit==\"Yes\":\n",
    "        print(\"*\"*50)\n",
    "        print(\"ThankYou for using BOB bank !!\")\n",
    "        break\n",
    "    else:\n",
    "        continue\n",
    "    \n",
    "        \n",
    "        \n"
   ]
  },
  {
   "cell_type": "code",
   "execution_count": null,
   "id": "31dc4c42",
   "metadata": {},
   "outputs": [],
   "source": []
  }
 ],
 "metadata": {
  "kernelspec": {
   "display_name": "Python 3 (ipykernel)",
   "language": "python",
   "name": "python3"
  },
  "language_info": {
   "codemirror_mode": {
    "name": "ipython",
    "version": 3
   },
   "file_extension": ".py",
   "mimetype": "text/x-python",
   "name": "python",
   "nbconvert_exporter": "python",
   "pygments_lexer": "ipython3",
   "version": "3.9.13"
  }
 },
 "nbformat": 4,
 "nbformat_minor": 5
}
